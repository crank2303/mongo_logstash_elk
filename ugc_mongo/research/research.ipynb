{
 "cells": [
  {
   "cell_type": "code",
   "execution_count": 37,
   "metadata": {},
   "outputs": [],
   "source": [
    "password='95463b11287'"
   ]
  },
  {
   "cell_type": "code",
   "execution_count": 35,
   "metadata": {},
   "outputs": [
    {
     "name": "stdout",
     "output_type": "stream",
     "text": [
      "[sudo] пароль для alexey: Попробуйте ещё раз.\n",
      "[sudo] пароль для alexey: \n",
      "sudo: no password was provided\n",
      "sudo: 1 попытка ввода неправильного пароля\n"
     ]
    }
   ],
   "source": [
    "!echo password | sudo -S docker-compose up -d --build"
   ]
  },
  {
   "cell_type": "code",
   "execution_count": 10,
   "metadata": {},
   "outputs": [],
   "source": [
    "import time\n",
    "\n",
    "from random import choice, randint\n",
    "from typing import Callable\n",
    "from uuid import uuid4\n",
    "\n",
    "from faker import Faker\n",
    "from pymongo import MongoClient\n",
    "\n"
   ]
  },
  {
   "cell_type": "code",
   "execution_count": 11,
   "metadata": {},
   "outputs": [],
   "source": [
    "MONGO_HOST = \"127.0.0.1\"\n",
    "MONGO_PORT = 27017\n",
    "MONGO_DB = \"ugc_db\"\n",
    "MONGO_COLLECTION_LIKE = \"likedFilms\"\n",
    "MONGO_COLLECTION_REVIEW = \"reviews\"\n",
    "MONGO_COLLECTION_BOOKMARK = \"bookmarks\"\n",
    "ITERATIONS_NUMBER = 10\n",
    "USERS_IN_BATCH = 10\n",
    "OPTIMAL_BATCH_SIZE = 200\n",
    "TEST_RECORDS_SIZE = 10000\n",
    "\n",
    "LIKE = 1\n",
    "DISLIKE = 0\n",
    "START_DATE = \"-30d\"\n",
    "END_DATE = \"now\"\n",
    "MIN_RATING = 1\n",
    "MAX_RATING = 10\n",
    "\n",
    "client = MongoClient(MONGO_HOST, MONGO_PORT, connect=True)\n",
    "mongo_db = client[MONGO_DB]\n",
    "\n",
    "fake = Faker()"
   ]
  },
  {
   "cell_type": "code",
   "execution_count": 12,
   "metadata": {},
   "outputs": [],
   "source": [
    "\n",
    "def fake_like_event(user_id: str = None, film_id: str = None) -> dict:\n",
    "    \"\"\"Генерация события like.\"\"\"\n",
    "    return {\n",
    "        \"user_id\": user_id if user_id else str(uuid4()),\n",
    "        \"film_id\": film_id if film_id else str(uuid4()),\n",
    "        \"type\": choice([LIKE, DISLIKE]),\n",
    "        \"datetime\": fake.date_time_between(start_date=START_DATE, end_date=END_DATE),\n",
    "    }"
   ]
  },
  {
   "cell_type": "code",
   "execution_count": 13,
   "metadata": {},
   "outputs": [],
   "source": [
    "def fake_review_event(user_id: str = None, film_id: str = None) -> dict:\n",
    "    \"\"\"Генерация события review.\"\"\"\n",
    "    return {\n",
    "        \"user_id\": user_id if user_id else str(uuid4()),\n",
    "        \"film_id\": film_id if film_id else str(uuid4()),\n",
    "        \"text\": fake.text(),\n",
    "        \"rating\": randint(MIN_RATING, MAX_RATING),\n",
    "        \"datetime\": fake.date_time_between(start_date=START_DATE, end_date=END_DATE),\n",
    "    }"
   ]
  },
  {
   "cell_type": "code",
   "execution_count": 14,
   "metadata": {},
   "outputs": [],
   "source": [
    "def fake_bookmark_event(user_id: str = None, film_id: str = None) -> dict:\n",
    "    \"\"\"Генерация события bookmark.\"\"\"\n",
    "    return {\n",
    "        \"user_id\": user_id if user_id else str(uuid4()),\n",
    "        \"film_id\": film_id if film_id else str(uuid4()),\n",
    "        \"datetime\": fake.date_time_between(start_date=START_DATE, end_date=END_DATE),\n",
    "    }"
   ]
  },
  {
   "cell_type": "code",
   "execution_count": 15,
   "metadata": {},
   "outputs": [],
   "source": [
    "def fake_batch(event_faker: Callable, user_size: int, batch_size: int) -> list[dict]:\n",
    "    \"\"\"Генерация батча событий.\"\"\"\n",
    "    users = [str(uuid4()) for _ in range(user_size)]\n",
    "    return [event_faker(user_id=choice(users)) for _ in range(batch_size)]"
   ]
  },
  {
   "cell_type": "code",
   "execution_count": 16,
   "metadata": {},
   "outputs": [],
   "source": [
    "\n",
    "\n",
    "def fake_users_batch(event_faker: Callable, users: list, batch_size: int) -> list[dict]:\n",
    "    \"\"\"Генерация батча событий с фиксированными юзерами.\"\"\"\n",
    "    return [event_faker(user_id=choice(users)) for _ in range(batch_size)]\n",
    "\n"
   ]
  },
  {
   "cell_type": "code",
   "execution_count": 17,
   "metadata": {},
   "outputs": [],
   "source": [
    "\n",
    "\n",
    "def test_insert_step(\n",
    "        faker: Callable,\n",
    "        collection_name: str,\n",
    "        batch_size: int,\n",
    "        iterations: int = ITERATIONS_NUMBER,\n",
    ") -> None:\n",
    "    \"\"\"Тестирование вставки.\"\"\"\n",
    "    collection = mongo_db.get_collection(collection_name)\n",
    "    statistics = []\n",
    "    for _ in range(iterations):\n",
    "        batch = fake_batch(faker, USERS_IN_BATCH, batch_size)\n",
    "        start = time.time()\n",
    "        collection.insert_many(batch)\n",
    "        end = time.time()\n",
    "        statistics.append(end - start)\n",
    "    mean_batch = sum(statistics) / len(statistics)\n",
    "    print(\n",
    "        f\"Statistics for {collection_name} batch_size={batch_size}: batch={mean_batch} sec, \"\n",
    "        f\"item={mean_batch/batch_size} sec.\",\n",
    "    )\n",
    "\n"
   ]
  },
  {
   "cell_type": "code",
   "execution_count": 18,
   "metadata": {},
   "outputs": [],
   "source": [
    "\n",
    "def test_insert(faker: Callable, collection_name: str) -> None:\n",
    "    \"\"\"Тестирование вставки с разным размером батча.\"\"\"\n",
    "    batch_sizes = [1, 10, 50, 100, 200, 500, 1000, 2000, 5000]\n",
    "    for batch_size in batch_sizes:\n",
    "        test_insert_step(faker, collection_name, batch_size)\n",
    "\n"
   ]
  },
  {
   "cell_type": "code",
   "execution_count": 19,
   "metadata": {},
   "outputs": [
    {
     "name": "stdout",
     "output_type": "stream",
     "text": [
      "Statistics for likedFilms batch_size=1: batch=0.004756402969360351 sec, item=0.004756402969360351 sec.\n",
      "Statistics for likedFilms batch_size=10: batch=0.002495002746582031 sec, item=0.00024950027465820313 sec.\n",
      "Statistics for likedFilms batch_size=50: batch=0.004588079452514648 sec, item=9.176158905029296e-05 sec.\n",
      "Statistics for likedFilms batch_size=100: batch=0.004948234558105469 sec, item=4.948234558105469e-05 sec.\n",
      "Statistics for likedFilms batch_size=200: batch=0.009695076942443847 sec, item=4.8475384712219234e-05 sec.\n",
      "Statistics for likedFilms batch_size=500: batch=0.013422870635986328 sec, item=2.6845741271972655e-05 sec.\n",
      "Statistics for likedFilms batch_size=1000: batch=0.021298599243164063 sec, item=2.1298599243164064e-05 sec.\n",
      "Statistics for likedFilms batch_size=2000: batch=0.03993353843688965 sec, item=1.9966769218444825e-05 sec.\n",
      "Statistics for likedFilms batch_size=5000: batch=0.10030264854431152 sec, item=2.0060529708862305e-05 sec.\n"
     ]
    }
   ],
   "source": [
    "test_insert(\n",
    "        fake_like_event,\n",
    "        MONGO_COLLECTION_LIKE,\n",
    "    )\n",
    "\n"
   ]
  },
  {
   "cell_type": "code",
   "execution_count": 20,
   "metadata": {},
   "outputs": [
    {
     "name": "stdout",
     "output_type": "stream",
     "text": [
      "Statistics for reviews batch_size=1: batch=0.005237293243408203 sec, item=0.005237293243408203 sec.\n",
      "Statistics for reviews batch_size=10: batch=0.0033991098403930663 sec, item=0.00033991098403930665 sec.\n",
      "Statistics for reviews batch_size=50: batch=0.0047527790069580075 sec, item=9.505558013916014e-05 sec.\n",
      "Statistics for reviews batch_size=100: batch=0.005927371978759766 sec, item=5.9273719787597655e-05 sec.\n",
      "Statistics for reviews batch_size=200: batch=0.00798203945159912 sec, item=3.9910197257995605e-05 sec.\n",
      "Statistics for reviews batch_size=500: batch=0.014413666725158692 sec, item=2.8827333450317383e-05 sec.\n",
      "Statistics for reviews batch_size=1000: batch=0.021346402168273926 sec, item=2.1346402168273925e-05 sec.\n",
      "Statistics for reviews batch_size=2000: batch=0.045159554481506346 sec, item=2.2579777240753175e-05 sec.\n",
      "Statistics for reviews batch_size=5000: batch=0.13674120903015136 sec, item=2.734824180603027e-05 sec.\n"
     ]
    }
   ],
   "source": [
    "test_insert(\n",
    "        fake_review_event,\n",
    "        MONGO_COLLECTION_REVIEW,\n",
    "    )"
   ]
  },
  {
   "cell_type": "code",
   "execution_count": 21,
   "metadata": {},
   "outputs": [
    {
     "name": "stdout",
     "output_type": "stream",
     "text": [
      "Statistics for bookmarks batch_size=1: batch=0.004219508171081543 sec, item=0.004219508171081543 sec.\n",
      "Statistics for bookmarks batch_size=10: batch=0.0028723716735839845 sec, item=0.00028723716735839844 sec.\n",
      "Statistics for bookmarks batch_size=50: batch=0.004305410385131836 sec, item=8.610820770263672e-05 sec.\n",
      "Statistics for bookmarks batch_size=100: batch=0.005558681488037109 sec, item=5.558681488037109e-05 sec.\n",
      "Statistics for bookmarks batch_size=200: batch=0.007251930236816406 sec, item=3.625965118408203e-05 sec.\n",
      "Statistics for bookmarks batch_size=500: batch=0.011615991592407227 sec, item=2.323198318481445e-05 sec.\n",
      "Statistics for bookmarks batch_size=1000: batch=0.027324652671813963 sec, item=2.7324652671813965e-05 sec.\n",
      "Statistics for bookmarks batch_size=2000: batch=0.03711709976196289 sec, item=1.8558549880981444e-05 sec.\n",
      "Statistics for bookmarks batch_size=5000: batch=0.09341619014739991 sec, item=1.868323802947998e-05 sec.\n"
     ]
    }
   ],
   "source": [
    "test_insert(\n",
    "        fake_bookmark_event,\n",
    "        MONGO_COLLECTION_BOOKMARK,\n",
    "    )\n"
   ]
  },
  {
   "cell_type": "code",
   "execution_count": 22,
   "metadata": {},
   "outputs": [],
   "source": [
    "\n",
    "\n",
    "def test_read_data(faker: Callable, collection_name: str, users_size: int) -> None:\n",
    "    \"\"\"Тестирование чтения.\"\"\"\n",
    "    statistics = []\n",
    "    collection = mongo_db.get_collection(collection_name)\n",
    "    users = [str(uuid4()) for _ in range(users_size)]\n",
    "\n",
    "    for i in range(0, TEST_RECORDS_SIZE, OPTIMAL_BATCH_SIZE):\n",
    "        batch = fake_users_batch(faker, users, batch_size=OPTIMAL_BATCH_SIZE)\n",
    "        collection.insert_many(batch)\n",
    "\n",
    "    for user in users:\n",
    "        start = time.time()\n",
    "        _ = list(collection.find({\"user_id\": user}))\n",
    "        statistics.append(time.time() - start)\n",
    "\n",
    "    mean_batch = sum(statistics) / len(statistics)\n",
    "    print(\n",
    "        f\"Statistics read for {collection_name} for ~{int(TEST_RECORDS_SIZE/users_size)} records: {mean_batch} sec\",\n",
    "    )\n",
    "\n"
   ]
  },
  {
   "cell_type": "code",
   "execution_count": 23,
   "metadata": {},
   "outputs": [
    {
     "name": "stdout",
     "output_type": "stream",
     "text": [
      "Statistics read for likedFilms for ~500 records: 0.08538269996643066 sec\n"
     ]
    }
   ],
   "source": [
    "test_read_data(\n",
    "    fake_like_event, \n",
    "    MONGO_COLLECTION_LIKE, \n",
    "    20)\n",
    "\n"
   ]
  },
  {
   "cell_type": "code",
   "execution_count": 24,
   "metadata": {},
   "outputs": [
    {
     "name": "stdout",
     "output_type": "stream",
     "text": [
      "Statistics read for likedFilms for ~500 records: 0.07876452207565307 sec\n"
     ]
    }
   ],
   "source": [
    "test_read_data(\n",
    "    fake_review_event, \n",
    "    MONGO_COLLECTION_LIKE, \n",
    "    20)"
   ]
  },
  {
   "cell_type": "code",
   "execution_count": 25,
   "metadata": {},
   "outputs": [
    {
     "name": "stdout",
     "output_type": "stream",
     "text": [
      "Statistics read for likedFilms for ~500 records: 0.08223080635070801 sec\n"
     ]
    }
   ],
   "source": [
    "test_read_data(\n",
    "    fake_bookmark_event, \n",
    "    MONGO_COLLECTION_LIKE, \n",
    "    20)"
   ]
  },
  {
   "cell_type": "code",
   "execution_count": 27,
   "metadata": {},
   "outputs": [
    {
     "name": "stdout",
     "output_type": "stream",
     "text": [
      "[sudo] пароль для alexey: \u001b[1A\u001b[1B\u001b[0G\u001b[?25l[+] Running 0/0\n",
      " ⠋ Container mongodb_container  \u001b[39mStopping\u001b[0m                                   \u001b[34m0.1s \u001b[0m\n",
      "\u001b[?25h\u001b[1A\u001b[1A\u001b[0G\u001b[?25l[+] Running 0/1\n",
      " ⠙ Container mongodb_container  \u001b[39mStopping\u001b[0m                                   \u001b[34m0.2s \u001b[0m\n",
      "\u001b[?25h\u001b[1A\u001b[1A\u001b[0G\u001b[?25l[+] Running 0/1\n",
      " ⠹ Container mongodb_container  \u001b[39mStopping\u001b[0m                                   \u001b[34m0.3s \u001b[0m\n",
      "\u001b[?25h\u001b[1A\u001b[1A\u001b[0G\u001b[?25l[+] Running 0/1\n",
      " ⠸ Container mongodb_container  \u001b[39mStopping\u001b[0m                                   \u001b[34m0.4s \u001b[0m\n",
      "\u001b[?25h\u001b[1A\u001b[1A\u001b[0G\u001b[?25l[+] Running 0/1\n",
      " ⠼ Container mongodb_container  \u001b[39mStopping\u001b[0m                                   \u001b[34m0.5s \u001b[0m\n",
      "\u001b[?25h\u001b[1A\u001b[1A\u001b[0G\u001b[?25l[+] Running 0/1\n",
      " ⠴ Container mongodb_container  \u001b[39mStopping\u001b[0m                                   \u001b[34m0.6s \u001b[0m\n",
      "\u001b[?25h\u001b[1A\u001b[1A\u001b[0G\u001b[?25l[+] Running 2/1\n",
      " \u001b[32m✔\u001b[0m Container mongodb_container             \u001b[32mRemoved\u001b[0m                         \u001b[34m0.6s \u001b[0m\n",
      " \u001b[32m✔\u001b[0m Volume research_mongodb_data_container  \u001b[32mRemoved\u001b[0m                         \u001b[34m0.0s \u001b[0m\n",
      " ⠋ Network research_default                \u001b[39mR...\u001b[0m                            \u001b[34m0.0s \u001b[0m\n",
      "\u001b[?25h\u001b[1A\u001b[1A\u001b[1A\u001b[1A\u001b[0G\u001b[?25l[+] Running 2/3\n",
      " \u001b[32m✔\u001b[0m Container mongodb_container             \u001b[32mRemoved\u001b[0m                         \u001b[34m0.6s \u001b[0m\n",
      " \u001b[32m✔\u001b[0m Volume research_mongodb_data_container  \u001b[32mRemoved\u001b[0m                         \u001b[34m0.0s \u001b[0m\n",
      " ⠙ Network research_default                \u001b[39mR...\u001b[0m                            \u001b[34m0.1s \u001b[0m\n",
      "\u001b[?25h\u001b[1A\u001b[1A\u001b[1A\u001b[1A\u001b[0G\u001b[?25l\u001b[34m[+] Running 3/3\u001b[0m\n",
      " \u001b[32m✔\u001b[0m Container mongodb_container             \u001b[32mRemoved\u001b[0m                         \u001b[34m0.6s \u001b[0m\n",
      " \u001b[32m✔\u001b[0m Volume research_mongodb_data_container  \u001b[32mRemoved\u001b[0m                         \u001b[34m0.0s \u001b[0m\n",
      " \u001b[32m✔\u001b[0m Network research_default                \u001b[32mR...\u001b[0m                            \u001b[34m0.2s \u001b[0m\n",
      "\u001b[?25h"
     ]
    }
   ],
   "source": [
    "!echo password |sudo -S docker compose down -v"
   ]
  }
 ],
 "metadata": {
  "kernelspec": {
   "display_name": "Python 3",
   "language": "python",
   "name": "python3"
  },
  "language_info": {
   "codemirror_mode": {
    "name": "ipython",
    "version": 3
   },
   "file_extension": ".py",
   "mimetype": "text/x-python",
   "name": "python",
   "nbconvert_exporter": "python",
   "pygments_lexer": "ipython3",
   "version": "3.10.11"
  },
  "orig_nbformat": 4
 },
 "nbformat": 4,
 "nbformat_minor": 2
}
